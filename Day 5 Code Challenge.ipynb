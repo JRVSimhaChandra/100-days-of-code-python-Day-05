{
 "cells": [
  {
   "cell_type": "code",
   "execution_count": 1,
   "id": "03b15c01-9c6f-4f2b-9810-34c219acc720",
   "metadata": {},
   "outputs": [],
   "source": [
    "import random"
   ]
  },
  {
   "cell_type": "code",
   "execution_count": 2,
   "id": "edc029f9-6695-4343-b4b8-9c3db3ea02a7",
   "metadata": {},
   "outputs": [],
   "source": [
    "letters = ['a', 'b', 'c', 'd', 'e', 'f', 'g', 'h', 'i', 'j', 'k', 'l', 'm', 'n', 'o', 'p', 'q', 'r', 's', 't', 'u', 'v', 'w', 'x', 'y', 'z', 'A', 'B', 'C', 'D', 'E', 'F', 'G', 'H', 'I', 'J', 'K', 'L', 'M', 'N', 'O', 'P', 'Q', 'R', 'S', 'T', 'U', 'V', 'W', 'X', 'Y', 'Z']\n",
    "numbers = ['0', '1', '2', '3', '4', '5', '6', '7', '8', '9']\n",
    "symbols = ['!', '#', '$', '%', '&', '(', ')', '*', '+']\n"
   ]
  },
  {
   "cell_type": "code",
   "execution_count": 3,
   "id": "5dccc1b4-86ce-4780-8877-d36aee808987",
   "metadata": {},
   "outputs": [
    {
     "name": "stdout",
     "output_type": "stream",
     "text": [
      "Welcome to the PyPassword Generator!\n"
     ]
    },
    {
     "name": "stdin",
     "output_type": "stream",
     "text": [
      "How many letters would you like in your password?\n",
      " 6\n",
      "How many symbols would you like?\n",
      " 8\n",
      "How many numbers would you like?\n",
      " 5\n"
     ]
    }
   ],
   "source": [
    "print(\"Welcome to the PyPassword Generator!\")\n",
    "nr_letters = (input(\"How many letters would you like in your password?\\n\"))\n",
    "nr_symbols = (input(f\"How many symbols would you like?\\n\"))\n",
    "nr_numbers = (input(f\"How many numbers would you like?\\n\"))"
   ]
  },
  {
   "cell_type": "code",
   "execution_count": 4,
   "id": "d5a2a7cb-f6cd-4874-9782-8cd06d13270f",
   "metadata": {},
   "outputs": [],
   "source": [
    "if not nr_letters.isdigit() or not nr_symbols.isdigit() or not nr_numbers.isdigit():\n",
    "    print(\"Invalid value, enter a number instead.\")\n",
    "else:\n",
    "    password = []"
   ]
  },
  {
   "cell_type": "code",
   "execution_count": 7,
   "id": "54460283-e18c-4e6b-a748-efd6fff14414",
   "metadata": {},
   "outputs": [],
   "source": [
    "random_letter = random.randint(0, 51)\n",
    "for i in range(0, int(nr_letters)):\n",
    "    random_letter = random.randint(0, 51)\n",
    "    password.append(letters[random_letter])"
   ]
  },
  {
   "cell_type": "code",
   "execution_count": 8,
   "id": "ec9ab63a-49b5-4931-a91a-9b3b9db752e8",
   "metadata": {},
   "outputs": [],
   "source": [
    "random_number = random.randint(0,9)\n",
    "for i in range(0, int(nr_numbers)):\n",
    "    random_number = random.randint(0,9)\n",
    "    password.append(numbers[random_number])"
   ]
  },
  {
   "cell_type": "code",
   "execution_count": 9,
   "id": "fc3fecc8-394e-431d-a323-6072914867fd",
   "metadata": {},
   "outputs": [],
   "source": [
    "random_symbol = random.randint(0,8)\n",
    "for i in range(0, int(nr_symbols)):\n",
    "    random_symbol = random.randint(0,8)\n",
    "    password.append(symbols[random_symbol])"
   ]
  },
  {
   "cell_type": "code",
   "execution_count": 11,
   "id": "a87749c1-3f8b-4007-a798-76644cce0fb7",
   "metadata": {},
   "outputs": [
    {
     "name": "stdout",
     "output_type": "stream",
     "text": [
      "Here is your password: +w+*G(F++2j5&S#i793\n"
     ]
    }
   ],
   "source": [
    "random.shuffle(password)\n",
    "print(f\"Here is your password: {''.join(password)}\")"
   ]
  },
  {
   "cell_type": "code",
   "execution_count": 14,
   "id": "a63c17e5-5c06-4fe0-8d04-2808e516bec6",
   "metadata": {},
   "outputs": [
    {
     "name": "stdout",
     "output_type": "stream",
     "text": [
      "Your password is strong.\n"
     ]
    }
   ],
   "source": [
    "if len(password) <= 6:\n",
    "    print(\"Your password is weak, try to include at least 8 characters for a stronger password.\")\n",
    "elif len(password) == 7:\n",
    "    print(\"Your password is medium, try to include at least 8 characters for a stronger password.\")\n",
    "else:\n",
    "    print(\"Your password is strong.\")"
   ]
  },
  {
   "cell_type": "code",
   "execution_count": null,
   "id": "63d05738-e9cd-4779-b478-85bf4a7b4284",
   "metadata": {},
   "outputs": [],
   "source": []
  }
 ],
 "metadata": {
  "kernelspec": {
   "display_name": "Python 3 (ipykernel)",
   "language": "python",
   "name": "python3"
  },
  "language_info": {
   "codemirror_mode": {
    "name": "ipython",
    "version": 3
   },
   "file_extension": ".py",
   "mimetype": "text/x-python",
   "name": "python",
   "nbconvert_exporter": "python",
   "pygments_lexer": "ipython3",
   "version": "3.12.4"
  }
 },
 "nbformat": 4,
 "nbformat_minor": 5
}
